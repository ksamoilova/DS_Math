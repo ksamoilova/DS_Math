{
 "cells": [
  {
   "cell_type": "code",
   "execution_count": 44,
   "metadata": {},
   "outputs": [],
   "source": [
    "import matplotlib.pyplot as plt\n",
    "import numpy as np\n",
    "from scipy.stats import *\n",
    "\n",
    "%matplotlib inline"
   ]
  },
  {
   "cell_type": "markdown",
   "metadata": {},
   "source": [
    "### Задание 1"
   ]
  },
  {
   "cell_type": "markdown",
   "metadata": {},
   "source": [
    "Монетку подбрасывают 15 раз, найдите вероятность выпадения простого числа (решение на бумажке и на python). \n"
   ]
  },
  {
   "cell_type": "markdown",
   "metadata": {},
   "source": [
    "Простые числа 2, 3, 5, 7, 11, 13.\n",
    "\n",
    "Всего возможных исходов \n",
    "$2^{15} = 32768$<br><br>\n",
    "\n",
    "Число возможных исходов для n=2 <br>\n",
    "$C_{15}^{2} = \\frac{ 15!} { 2!*13!} = 14*15/2 = 105$<br>\n",
    "Вероятность выпадения 2: <br>\n",
    "p(2) = \n",
    "$\\frac{C_{15}^{2}} {2^{15}} = 105 / 32768 = 0.0032 $<br><br>\n",
    "\n",
    "Число возможных исходов для n=3 <br>\n",
    "$C_{15}^{3} = \\frac{ 15!} { 3!*12!} = 13*14*15/6 = 455$<br>\n",
    "p(3) = \n",
    "$\\frac{C_{15}^{3}} {2^{15}} = 455 / 32768 = 0.0139 $<br><br>\n",
    "\n",
    "Число возможных исходов для n=5 <br>\n",
    "$C_{15}^{5} = \\frac{ 15!} { 5!*10!} = 11*12*13*14*15/120 = 3003$<br>\n",
    "p(5) = \n",
    "$\\frac{C_{15}^{5}} {2^{15}} = 3003 / 32768 = 0.0916 $<br><br>\n",
    "\n",
    "Число возможных исходов для n=7 <br>\n",
    "$C_{15}^{7} = \\frac{ 15!} { 7!*8!} = 9*10*11*12*13*14*15/5040 = 6435$<br>\n",
    "p(7) = \n",
    "$\\frac{C_{15}^{7}} {2^{15}} = 6435 / 32768 = 0.1964 $<br><br>\n",
    "\n",
    "Число возможных исходов для n=11 <br>\n",
    "$C_{15}^{11} = \\frac{ 15!} { 11!*4!} = 12*13*14*15/24 = 1365$<br>\n",
    "p(11) = \n",
    "$\\frac{C_{15}^{11}} {2^{15}} = 1365 / 32768 = 0.0417 $<br><br>\n",
    "\n",
    "Число возможных исходов для n=13 <br>\n",
    "$C_{15}^{13} = \\frac{ 15!} { 13!*2!} = 14*15/2 = 105$<br>\n",
    "p(13) = \n",
    "$\\frac{C_{15}^{13}} {2^{15}} = 105 / 32768 = 0.0032 $<br><br>"
   ]
  },
  {
   "cell_type": "markdown",
   "metadata": {},
   "source": [
    "Вероятность выпадения простого числа p = 0.0032 + 0.0139 + 0.0916 + 0.1964 + 0.0417 + 0.0032 = **0.35**"
   ]
  },
  {
   "cell_type": "code",
   "execution_count": 45,
   "metadata": {},
   "outputs": [
    {
     "name": "stdout",
     "output_type": "stream",
     "text": [
      "Вероятность выпадения числа 2 = 0.0032043457031250204\n",
      "Вероятность выпадения числа 3 = 0.013885498046875066\n",
      "Вероятность выпадения числа 5 = 0.09164428710937506\n",
      "Вероятность выпадения числа 7 = 0.1963806152343757\n",
      "Вероятность выпадения числа 11 = 0.04165649414062508\n",
      "Вероятность выпадения числа 13 = 0.0032043457031250204\n",
      "Вероятность выпадения простого числа = 0.3499755859375009\n"
     ]
    }
   ],
   "source": [
    "prb = 0\n",
    "x = [2, 3, 5, 7, 11, 13]\n",
    "p = 0.5\n",
    "n = 15\n",
    "\n",
    "for c in x:\n",
    "    print ('Вероятность выпадения числа', c, '=', binom.pmf(c, n, p))\n",
    "    prb += binom.pmf(c, n, p)\n",
    "print ('Вероятность выпадения простого числа','=', prb)"
   ]
  },
  {
   "cell_type": "markdown",
   "metadata": {},
   "source": [
    "### Задание 2"
   ]
  },
  {
   "cell_type": "markdown",
   "metadata": {},
   "source": [
    "Создайте свою дискретную случайную величину с не менее, чем 10 значениями. Просемплируйте 1000 случайных значений, постройте гистограмму плотности распределения по выборке, посчитайте среднее, дисперсию и медиану."
   ]
  },
  {
   "cell_type": "code",
   "execution_count": 46,
   "metadata": {},
   "outputs": [
    {
     "data": {
      "image/png": "[encoded data removed]",
      "text/plain": [
       "<Figure size 432x288 with 1 Axes>"
      ]
     },
     "metadata": {
      "needs_background": "light"
     },
     "output_type": "display_data"
    }
   ],
   "source": [
    "s=np.random.poisson(10, 1000)\n",
    "plt.hist(s, 22)\n",
    "plt.show()"
   ]
  },
  {
   "cell_type": "code",
   "execution_count": 47,
   "metadata": {},
   "outputs": [
    {
     "name": "stdout",
     "output_type": "stream",
     "text": [
      "Среднее =  10.208\n",
      "Медиана =  10.0\n",
      "Дисперсия =  11.558736000000001\n"
     ]
    }
   ],
   "source": [
    "print ('Среднее = ', np.mean(s))\n",
    "print ('Медиана = ', np.median(s))\n",
    "print ('Дисперсия = ', np.var(s))"
   ]
  },
  {
   "cell_type": "markdown",
   "metadata": {},
   "source": [
    "### Задание 3"
   ]
  },
  {
   "cell_type": "markdown",
   "metadata": {},
   "source": [
    "Задача с 17-го слайда лекции про 3 монеты. Покажите, почему 3 события являются попарно независимыми, но <b>не</b> являются независимыми в совокупности."
   ]
  },
  {
   "cell_type": "markdown",
   "metadata": {},
   "source": [
    "### Задание 4 (формула полной вероятности)"
   ]
  },
  {
   "cell_type": "markdown",
   "metadata": {},
   "source": [
    "В магазин привезли устройства с 3-х разных предприятий. Соотношение устройств следующее: 20% - продукция первого предприятия, 30% - продукция второго предприятия, 50% - продукция третьего предприятия; далее, 10% продукции первого предприятия высшего сорта, на втором предприятии - 5% и на третьем - 20% продукции высшего сорта. Найти вероятность того, что случайно купленная новая продукция окажется высшего сорта."
   ]
  },
  {
   "cell_type": "markdown",
   "metadata": {},
   "source": [
    "Вероятность того, что продукция произведена 1, 2 и 3 предприятием - соответственно 0.2, 0.3 и 0.5.<br>\n",
    "Вероятность произвести продукцию высшего сорта для 1, 2 и 3 предприятия - соответственно 0.1, 0.05 и 0.2.<br>\n",
    "Вероятность купить продукцию высшего сорта:\n",
    "$ p = 0.2*0.1 + 0.3*0.05 + 0.5*0.2 = 0.135$"
   ]
  },
  {
   "cell_type": "code",
   "execution_count": null,
   "metadata": {},
   "outputs": [],
   "source": []
  }
 ],
 "metadata": {
  "kernelspec": {
   "display_name": "Python 3",
   "language": "python",
   "name": "python3"
  },
  "language_info": {
   "codemirror_mode": {
    "name": "ipython",
    "version": 3
   },
   "file_extension": ".py",
   "mimetype": "text/x-python",
   "name": "python",
   "nbconvert_exporter": "python",
   "pygments_lexer": "ipython3",
   "version": "3.7.1"
  }
 },
 "nbformat": 4,
 "nbformat_minor": 2
}
